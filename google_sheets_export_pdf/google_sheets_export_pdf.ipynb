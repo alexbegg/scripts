{
 "cells": [
  {
   "cell_type": "code",
   "execution_count": 2,
   "metadata": {},
   "outputs": [
    {
     "name": "stdout",
     "output_type": "stream",
     "text": [
      "Please visit this URL: https://accounts.google.com/o/oauth2/auth?response_type=code&client_id=251072080257-ki89qocbc9boe3cf054b5g8qig8sintm.apps.googleusercontent.com&redirect_uri=http%3A%2F%2Flocalhost%3A8080%2F&scope=https%3A%2F%2Fwww.googleapis.com%2Fauth%2Fdrive.file+https%3A%2F%2Fwww.googleapis.com%2Fauth%2Fspreadsheets&state=WAjQyRRZ5W8zIyGEE7eyNlP9WbtCuK&access_type=offline\n"
     ]
    }
   ],
   "source": [
    "from google_auth_oauthlib.flow import InstalledAppFlow\n",
    "\n",
    "flow = InstalledAppFlow.from_client_secrets_file(\n",
    "    'client_secret.json',\n",
    "    scopes=[\n",
    "        'https://www.googleapis.com/auth/drive.file',\n",
    "        'https://www.googleapis.com/auth/spreadsheets'\n",
    "    ])\n",
    "credentials = flow.run_local_server(host='localhost',\n",
    "    port=8080, \n",
    "    authorization_prompt_message='Please visit this URL: {url}', \n",
    "    success_message='The auth flow is complete; you may close this window.',\n",
    "    open_browser=True)"
   ]
  },
  {
   "cell_type": "code",
   "execution_count": 3,
   "metadata": {},
   "outputs": [],
   "source": [
    "import urllib.parse\n",
    "import requests\n",
    "import string\n",
    "\n",
    "def col2num(col):\n",
    "    num = 0\n",
    "    for c in col:\n",
    "        if c in string.ascii_letters:\n",
    "            num = num * 26 + (ord(c.upper()) - ord('A')) + 1\n",
    "    return num\n",
    "\n",
    "\n",
    "def download_pdf(google_sheet_id, sheet_gid, range_rows, range_columns, file_name):\n",
    "    access_token = credentials.token\n",
    "    q = {\n",
    "        'format': 'pdf',\n",
    "        'size': 'letter',\n",
    "        'portrait': 'true',\n",
    "        'fitw': 'true',\n",
    "        'sheetnames': 'true',\n",
    "        'printtitle': 'true',\n",
    "        'pagenumbers': 'CENTER',\n",
    "        'gridlines': 'false',\n",
    "        'printnotes': 'false',\n",
    "        'fzr': 'false',\n",
    "        'gid': sheet_gid,\n",
    "        'r1': range_rows[0] - 1,  # Top of range, 0-indexed\n",
    "        'r2': range_rows[1],  # Bottom of range, 1-indexed\n",
    "        'c1': col2num(range_columns[0]) - 1,  # Left of range, 0-indexed\n",
    "        'c2': col2num(range_columns[1])  # Right of range, 1-indexed\n",
    "    }\n",
    "    query_parameters = urllib.parse.urlencode(q)\n",
    "    url = f'https://docs.google.com/spreadsheets/d/{google_sheet_id}/export?{query_parameters}'\n",
    "    headers = {'Authorization': 'Bearer ' + access_token}\n",
    "    res = requests.get(url, headers=headers)\n",
    "    with open(file_name, \"wb\") as f:\n",
    "        f.write(res.content)\n",
    "    print(f\"File saved as: \\\"{file_name}\\\"\")\n",
    "\n",
    "\n",
    "def get_cell_values(service, google_sheet_id, range_string):\n",
    "    result = (\n",
    "        service.spreadsheets()\n",
    "        .values()\n",
    "        .get(spreadsheetId=google_sheet_id, range=range_string)\n",
    "        .execute()\n",
    "    )\n",
    "    rows = result.get(\"values\", [])\n",
    "    if rows:\n",
    "        return rows\n",
    "    else:\n",
    "        return None\n",
    "\n",
    "\n",
    "def update_cell(service, google_sheet_id, cell, value):\n",
    "    body = {\n",
    "        \"values\": [\n",
    "            [\n",
    "                value\n",
    "            ],\n",
    "        ]\n",
    "    }\n",
    "    result = (\n",
    "        service.spreadsheets()\n",
    "        .values()\n",
    "        .update(\n",
    "            spreadsheetId=google_sheet_id,\n",
    "            range=cell,\n",
    "            valueInputOption='USER_ENTERED',\n",
    "            body=body,\n",
    "        )\n",
    "        .execute()\n",
    "    )\n",
    "    print(f\"Cell {cell} updated to: \\\"{value}\\\"\")"
   ]
  },
  {
   "cell_type": "code",
   "execution_count": 4,
   "metadata": {},
   "outputs": [],
   "source": [
    "import os\n",
    "from datetime import datetime\n",
    "import time\n",
    "from googleapiclient.discovery import build\n",
    "from googleapiclient.errors import HttpError\n",
    "\n",
    "def save_report(units: dict):\n",
    "    google_sheet_id = \"1Dc7P46n_aElQeCA21TAncLKSk6BVfQEsVxYDzcNbtv0\"\n",
    "\n",
    "    unit_name_cell = \"'Pio Pico'!AA3\"\n",
    "    names_range = \"'Pio Pico'!Y8:Y200\"\n",
    "\n",
    "    sheet_gid = '922725730'  # the number from gid= part of the URL of the sheet\n",
    "    today = datetime.today().strftime('%Y-%m-%d')\n",
    "\n",
    "    try:\n",
    "        with build('sheets', 'v4', credentials=credentials) as service:\n",
    "            for commissioner, assigned_units in units.items():\n",
    "                try:\n",
    "                    path = os.path.join(today, 'GLAAC AB506 Reports - Pio Pico - All', commissioner)\n",
    "                    os.makedirs(path)\n",
    "                    print(f'Directory \"{path}\" created.')\n",
    "                except OSError as error:\n",
    "                    print(f'Directory \"{path}\" already exists.')\n",
    "\n",
    "                for unit in assigned_units:\n",
    "                    update_cell(service, google_sheet_id, unit_name_cell, unit)\n",
    "                    unit_name = get_cell_values(service, google_sheet_id, unit_name_cell)\n",
    "                    if unit_name:\n",
    "                        unit_name = unit_name[0][0]\n",
    "                    else:\n",
    "                        unit_name = \"MBC and District\"\n",
    "\n",
    "                    names = get_cell_values(service, google_sheet_id, names_range)\n",
    "                    export_range_rows = (2, len(names) + 7)\n",
    "                    export_range_columns = ('Y', 'AE')\n",
    "                    file_name = f\"GLAAC AB506 Report - Pio Pico - {unit_name} - {today}.pdf\"\n",
    "                    path = os.path.join(\n",
    "                        today,\n",
    "                        'GLAAC AB506 Reports - Pio Pico - All',\n",
    "                        commissioner,\n",
    "                        file_name\n",
    "                    )\n",
    "                    download_pdf(google_sheet_id, sheet_gid, export_range_rows, export_range_columns, path)\n",
    "                    time.sleep(0.01)\n",
    "\n",
    "    except HttpError as error:\n",
    "        print(f\"An error occurred: {error}\")"
   ]
  },
  {
   "cell_type": "code",
   "execution_count": null,
   "metadata": {},
   "outputs": [],
   "source": [
    "save_report({\n",
    "    'Eloy Antunez': [\n",
    "        'Pack 0219 (F)',\n",
    "        'Pack 0476 (F)',\n",
    "        'Pack 0553 (B)',\n",
    "    ]\n",
    "})"
   ]
  },
  {
   "cell_type": "code",
   "execution_count": null,
   "metadata": {},
   "outputs": [],
   "source": [
    "save_report({\n",
    "    'Steven Caballos': [\n",
    "        'Pack 0072 (F)',\n",
    "        'Pack 0438 (F)',\n",
    "        'Pack 0529 (F)',\n",
    "        'Pack 0919 (F)',\n",
    "        'Pack 0924 (F)',\n",
    "    ]\n",
    "})"
   ]
  },
  {
   "cell_type": "code",
   "execution_count": null,
   "metadata": {},
   "outputs": [],
   "source": [
    "save_report({\n",
    "    'Tom Garcia': [\n",
    "        'Pack 0045 (F)',\n",
    "        'Troop 0033 (B)',\n",
    "        'Troop 0033 (G)',\n",
    "        'Troop 0330 (B)',\n",
    "    ]\n",
    "})"
   ]
  },
  {
   "cell_type": "code",
   "execution_count": 5,
   "metadata": {},
   "outputs": [
    {
     "name": "stdout",
     "output_type": "stream",
     "text": [
      "Directory \"2024-06-03/GLAAC AB506 Reports - Pio Pico - All/Jim Giordano\" created.\n",
      "Cell 'Pio Pico'!AA3 updated to: \"Troop 0394 (B)\"\n",
      "File saved as: \"2024-06-03/GLAAC AB506 Reports - Pio Pico - All/Jim Giordano/GLAAC AB506 Report - Pio Pico - Troop 0394 (B) - 2024-06-03.pdf\"\n",
      "Cell 'Pio Pico'!AA3 updated to: \"Troop 0394 (G)\"\n",
      "File saved as: \"2024-06-03/GLAAC AB506 Reports - Pio Pico - All/Jim Giordano/GLAAC AB506 Report - Pio Pico - Troop 0394 (G) - 2024-06-03.pdf\"\n",
      "Cell 'Pio Pico'!AA3 updated to: \"Troop 0693 (B)\"\n",
      "File saved as: \"2024-06-03/GLAAC AB506 Reports - Pio Pico - All/Jim Giordano/GLAAC AB506 Report - Pio Pico - Troop 0693 (B) - 2024-06-03.pdf\"\n",
      "Cell 'Pio Pico'!AA3 updated to: \"Troop 0693 (G)\"\n",
      "File saved as: \"2024-06-03/GLAAC AB506 Reports - Pio Pico - All/Jim Giordano/GLAAC AB506 Report - Pio Pico - Troop 0693 (G) - 2024-06-03.pdf\"\n",
      "Cell 'Pio Pico'!AA3 updated to: \"Troop 0888 (B)\"\n",
      "File saved as: \"2024-06-03/GLAAC AB506 Reports - Pio Pico - All/Jim Giordano/GLAAC AB506 Report - Pio Pico - Troop 0888 (B) - 2024-06-03.pdf\"\n",
      "Cell 'Pio Pico'!AA3 updated to: \"Troop 0919 (B)\"\n",
      "File saved as: \"2024-06-03/GLAAC AB506 Reports - Pio Pico - All/Jim Giordano/GLAAC AB506 Report - Pio Pico - Troop 0919 (B) - 2024-06-03.pdf\"\n"
     ]
    }
   ],
   "source": [
    "save_report({\n",
    "    'Jim Giordano': [\n",
    "        'Troop 0394 (B)',\n",
    "        'Troop 0394 (G)',\n",
    "        'Troop 0693 (B)',\n",
    "        'Troop 0693 (G)',\n",
    "        'Troop 0888 (B)',\n",
    "        'Troop 0919 (B)',\n",
    "    ]\n",
    "})"
   ]
  },
  {
   "cell_type": "code",
   "execution_count": null,
   "metadata": {},
   "outputs": [],
   "source": [
    "save_report({\n",
    "    'Bob Mosqueda': [\n",
    "        'Troop 0375 (B)',\n",
    "        'Troop 0438 (B)',\n",
    "        'Troop 0688 (B)',\n",
    "        'Troop 0985 (B)',\n",
    "        'Troop 5530 (B)',\n",
    "    ]\n",
    "})"
   ]
  },
  {
   "cell_type": "code",
   "execution_count": null,
   "metadata": {},
   "outputs": [],
   "source": [
    "save_report({\n",
    "    'Lou Smith': [\n",
    "        'Pack 0558 (F)',\n",
    "        'Troop 0054 (B)',\n",
    "        'Troop 0219 (B)',\n",
    "        'Troop 0546 (B)',\n",
    "        'Troop 0841 (B)',\n",
    "        'Troop 2019 (G)',\n",
    "    ]\n",
    "})"
   ]
  },
  {
   "cell_type": "code",
   "execution_count": null,
   "metadata": {},
   "outputs": [],
   "source": [
    "save_report({\n",
    "    'Joe Soria': [\n",
    "        'Troop 0072 (B)',\n",
    "        'Troop 0924 (B)',\n",
    "        'Troop 0924 (G)',\n",
    "        'Troop 1005 (B)',\n",
    "    ]\n",
    "})"
   ]
  },
  {
   "cell_type": "code",
   "execution_count": null,
   "metadata": {},
   "outputs": [],
   "source": [
    "save_report({\n",
    "    'Unassigned Units': [\n",
    "        'Crew 0461',\n",
    "        'Crew 0546',\n",
    "        'Pack 0018 (B)',\n",
    "        'Pack 0242 (F)',\n",
    "        'Pack 0688 (B)',\n",
    "        'Pack 0805 (B)',\n",
    "        'Pack 4914 (F)',\n",
    "        'Troop 0002 (B)',\n",
    "        'Troop 0441 (B)',\n",
    "        'Troop 0468 (B)',\n",
    "        'Troop 0476 (B)',\n",
    "        'Troop 1726 (B)',\n",
    "        'Troop 4914 (B)',\n",
    "    ]\n",
    "})"
   ]
  },
  {
   "cell_type": "code",
   "execution_count": null,
   "metadata": {},
   "outputs": [],
   "source": [
    "save_report({\n",
    "    'MBC and District': [\n",
    "        '',\n",
    "    ]\n",
    "})"
   ]
  }
 ],
 "metadata": {
  "kernelspec": {
   "display_name": ".venv",
   "language": "python",
   "name": "python3"
  },
  "language_info": {
   "codemirror_mode": {
    "name": "ipython",
    "version": 3
   },
   "file_extension": ".py",
   "mimetype": "text/x-python",
   "name": "python",
   "nbconvert_exporter": "python",
   "pygments_lexer": "ipython3",
   "version": "3.11.9"
  }
 },
 "nbformat": 4,
 "nbformat_minor": 2
}
