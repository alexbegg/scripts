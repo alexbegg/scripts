{
    "cells": [
        {
            "attachments": {},
            "cell_type": "markdown",
            "metadata": {
                "azdata_cell_guid": "3a84231b-fce2-4d5b-b960-3fd275427d14"
            },
            "source": [
                "This notebook will let you analyze all certificate documents uploaded to [californiascouting.org](https://californiascouting.org) and query for the following information:\n",
                "\n",
                "|  |\n",
                "| --- |\n",
                "| This certificate is presented to who? |\n",
                "| For completing the California Child Abuse Mandated Reporter Online Training for what? |\n",
                "| Hours of education earned? |\n",
                "| What is the date of completion? |\n",
                "| What is the certificate number? |"
            ]
        },
        {
            "cell_type": "code",
            "execution_count": 25,
            "metadata": {
                "azdata_cell_guid": "29e5f3d2-74bf-431b-a74b-0880e0f17148",
                "language": "python",
                "tags": []
            },
            "outputs": [],
            "source": [
                "import os\n",
                "import io\n",
                "from urllib.parse import urlparse\n",
                "\n",
                "import boto3\n",
                "import pandas as pd\n",
                "import requests\n",
                "from PyPDF2 import PdfReader, PdfWriter\n",
                "from PyPDF2.errors import PdfReadError\n",
                "\n",
                "input_csv_filename = \"bsa-glaac-ca-ab506-certificates-input2.csv\"\n",
                "bucket_name = \"bsa-ca-ab506-training\"\n",
                "second_page_only_prefix = 'second_page_only/'\n",
                "\n",
                "session = boto3.Session(profile_name='bsa-ca-ab506-textract')"
            ]
        },
        {
            "cell_type": "code",
            "execution_count": 31,
            "metadata": {
                "azdata_cell_guid": "0c9e6b91-1e88-456c-bbee-4453a1f37aa4",
                "language": "python",
                "tags": []
            },
            "outputs": [],
            "source": [
                "def upload_from_url(url: str, bucket):\n",
                "    if url.startswith('https://californiascouting.org/'):\n",
                "        r = requests.get(url)\n",
                "        if r.status_code == 200:\n",
                "            # get file name\n",
                "            file_name = os.path.basename(urlparse(url).path)\n",
                "\n",
                "            # load file\n",
                "            raw_data = r.content\n",
                "\n",
                "            # detect pages\n",
                "            try:\n",
                "                reader = PdfReader(io.BytesIO(raw_data))\n",
                "                if len(reader.pages) > 1:\n",
                "                    # extracting the 2nd page\n",
                "                    # (Textract synchronous document analysis only works on one page PDFs)\n",
                "                    file_name = f\"{second_page_only_prefix}{file_name}\"\n",
                "                    page = reader.pages[1]\n",
                "                    writer = PdfWriter()\n",
                "                    writer.add_page(page)\n",
                "                    with io.BytesIO() as bytes_stream:\n",
                "                        writer.write(bytes_stream)\n",
                "                        bytes_stream.seek(0)\n",
                "                        bucket.upload_fileobj(bytes_stream, file_name)\n",
                "                else:\n",
                "                    # only one page PDF, saving the file directly to S3\n",
                "                    bucket.upload_fileobj(io.BytesIO(raw_data), file_name)\n",
                "            except PdfReadError:\n",
                "                # not a PDF, saving the file directly to S3\n",
                "                bucket.upload_fileobj(io.BytesIO(raw_data), file_name)\n",
                "            print(f'Uploaded {file_name}')\n",
                "\n",
                "def upload_files(bucket_name: str, input_csv_filename: str, session: boto3.Session, testing=False) -> pd.DataFrame:\n",
                "    s3 = session.resource('s3')\n",
                "    bucket = s3.Bucket(bucket_name)\n",
                "\n",
                "    # load full URL list\n",
                "    df = pd.read_csv(input_csv_filename)\n",
                "    if testing:\n",
                "        df.sort_values(by=['upload_doc_url'], ascending=False, ignore_index=True, inplace=True)\n",
                "    if 'document' not in df:\n",
                "        df.insert(\n",
                "            loc=df.columns.get_loc('upload_doc_url') + 1,\n",
                "            column='document',\n",
                "            value=df['upload_doc_url'].apply(lambda x: os.path.basename(urlparse(x).path))\n",
                "        )\n",
                "\n",
                "    # check which have already been uploaded (we will filter these out when re-running this script)\n",
                "    objects = [obj.key.replace(second_page_only_prefix, '') for obj in bucket.objects.all()]\n",
                "    upload_df = df[~df['document'].isin(objects)]\n",
                "    if testing:\n",
                "        upload_df = upload_df.head(6)\n",
                "\n",
                "    # upload each URL to the bucket\n",
                "    object_count = len(upload_df.index)\n",
                "    for index, row in upload_df.iterrows():\n",
                "        print(f\"{index + 1} of {object_count}\")\n",
                "        upload_from_url(row['upload_doc_url'], bucket)\n",
                "    return df\n",
                "\n",
                "input_df = upload_files(bucket_name, input_csv_filename, session)"
            ]
        }
    ],
    "metadata": {
        "kernelspec": {
            "display_name": "Python 3 (ipykernel)",
            "language": "python",
            "name": "python3"
        },
        "language_info": {
            "codemirror_mode": {
                "name": "ipython",
                "version": 3
            },
            "file_extension": ".py",
            "mimetype": "text/x-python",
            "name": "python",
            "nbconvert_exporter": "python",
            "pygments_lexer": "ipython3",
            "version": "3.10.9"
        }
    },
    "nbformat": 4,
    "nbformat_minor": 2
}
